{
 "cells": [
  {
   "cell_type": "code",
   "execution_count": 1,
   "metadata": {},
   "outputs": [],
   "source": [
    "import numpy as np\n",
    "import scipy.sparse as sp"
   ]
  },
  {
   "cell_type": "code",
   "execution_count": 2,
   "metadata": {},
   "outputs": [],
   "source": [
    "def readDataFromFile (fileName):\n",
    "    \"This functions reads data from a file and store it in two matrices\"\n",
    "    #Open the file\n",
    "    file = open(fileName, 'r')\n",
    " \n",
    "    #Now we have to read the first line and check if it's sparse or dense\n",
    "    firstLine = file.readline()\n",
    "    words = firstLine.split()\n",
    "    word = words[1]\n",
    "    if word[:-1] == 'SPARSE':\n",
    "        sparse = True #The file is in sparse mode\n",
    "    else:\n",
    "        sparse = False #The file is in dense mode\n",
    " \n",
    " \n",
    "    secondLine = file.readline()\n",
    "    words = secondLine.split()\n",
    "    instances = int(words[1])\n",
    "    thirdLine = file.readline()\n",
    "    words = thirdLine.split()\n",
    "    attributes = int(words[1])\n",
    "    fourthLine = file.readline()\n",
    "    words = fourthLine.split()\n",
    "    labels = int(words[1])\n",
    "    #Now we do a loop reading all the other lines\n",
    "    #Then we read the file, different way depending if sparse or dense\n",
    " \n",
    "    #The loop starts in the first line of data\n",
    "    #We have to store that data in two matrices\n",
    "    X = np.zeros((instances, attributes), dtype=float)\n",
    "    y = np.zeros((instances, labels), dtype=int)\n",
    "    numberLine = 0\n",
    "    for line in file.readlines():\n",
    "        putToX = True\n",
    "        firstIndex = 1\n",
    "        numberData = 0\n",
    "        numberY = 0\n",
    "        for data in line.split():\n",
    "            if sparse:#Sparse format, we have to split each data\n",
    "                if data == '[':\n",
    "                    putToX = False\n",
    " \n",
    "                if putToX == True and (data != '[' and data != ']'):\n",
    "                    sparseArray = data.split(':')\n",
    "                    lastIndex = int(sparseArray[0])\n",
    "                    for i in range(firstIndex, lastIndex - 1):\n",
    "                        X[numberLine, i-1] = float(0)\n",
    "                    X[numberLine, lastIndex-1] = float(sparseArray[1])\n",
    "                    firstIndex = lastIndex-1\n",
    "                else:\n",
    "                    if (data != '[') and (data != ']'):\n",
    "                        aux = float(data)\n",
    "                        y[numberLine, numberY] = int(aux)\n",
    "                        numberY += 1\n",
    "               \n",
    "            else:#Dense format\n",
    "                if data == '[':\n",
    "                    putToX = False\n",
    " \n",
    "                if putToX == True and (data != '[' and data != ']'):\n",
    "                    X[numberLine, numberData] = float(data)\n",
    "                else:\n",
    "                    if (data != '[') and (data != ']'):\n",
    "                        #This is good for the dense format\n",
    "                        aux = float(data)\n",
    "                        y[numberLine, numberY] = int(aux)\n",
    "                        numberY += 1\n",
    "            numberData += 1\n",
    "       \n",
    "        numberLine += 1\n",
    "    X = sp.csr_matrix(X)\n",
    "    file.close()\n",
    "    return X, y"
   ]
  },
  {
   "cell_type": "code",
   "execution_count": 3,
   "metadata": {},
   "outputs": [],
   "source": [
    "#Sacamos los datos de train y test generados (.train y .gen)"
   ]
  },
  {
   "cell_type": "code",
   "execution_count": 4,
   "metadata": {},
   "outputs": [],
   "source": [
    "#X_train.shape[0]\n",
    "#y_train.shape[1]\n",
    "#---------------\n",
    "#X_test.shape[0]\n",
    "#y_test.shape[1]"
   ]
  },
  {
   "cell_type": "code",
   "execution_count": 5,
   "metadata": {},
   "outputs": [],
   "source": [
    "from skmultilearn.problem_transform import BinaryRelevance\n",
    "from sklearn.ensemble import RandomForestClassifier\n",
    "import sklearn.metrics\n",
    "#CHANGE DATASET NAME HERE:\n",
    "dataset = 'bibtex'"
   ]
  },
  {
   "cell_type": "code",
   "execution_count": 16,
   "metadata": {},
   "outputs": [
    {
     "name": "stdout",
     "output_type": "stream",
     "text": [
      "Reading: ./datasets/bibtex/bibtex0.train\n",
      "Reading: ./datasets/bibtex/bibtex0.test\n",
      "Accuracy: 0.10359\n",
      "Hamming loss: 0.01375\n",
      "Coverage: 87.10083 - 1\n",
      "Ranking loss: 0.35365\n",
      "Mean average precision: 0.07014\n",
      "ROC AUC micro: 0.57676\n",
      "-------------------\n",
      "Reading: ./datasets/bibtex/bibtex1.train\n",
      "Reading: ./datasets/bibtex/bibtex1.test\n",
      "Accuracy: 0.10738\n",
      "Hamming loss: 0.01281\n",
      "Coverage: 85.93154 - 1\n",
      "Ranking loss: 0.35576\n",
      "Mean average precision: 0.07410\n",
      "ROC AUC micro: 0.57810\n",
      "-------------------\n",
      "Reading: ./datasets/bibtex/bibtex2.train\n",
      "Reading: ./datasets/bibtex/bibtex2.test\n",
      "Accuracy: 0.09621\n",
      "Hamming loss: 0.01322\n",
      "Coverage: 86.95935 - 1\n",
      "Ranking loss: 0.35477\n",
      "Mean average precision: 0.06863\n",
      "ROC AUC micro: 0.57780\n",
      "-------------------\n",
      "Reading: ./datasets/bibtex/bibtex3.train\n",
      "Reading: ./datasets/bibtex/bibtex3.test\n",
      "Accuracy: 0.09799\n",
      "Hamming loss: 0.01293\n",
      "Coverage: 84.58792 - 1\n",
      "Ranking loss: 0.35573\n",
      "Mean average precision: 0.06997\n",
      "ROC AUC micro: 0.57864\n",
      "-------------------\n",
      "Reading: ./datasets/bibtex/bibtex4.train\n",
      "Reading: ./datasets/bibtex/bibtex4.test\n",
      "Accuracy: 0.10602\n",
      "Hamming loss: 0.01264\n",
      "Coverage: 90.25262 - 1\n",
      "Ranking loss: 0.38141\n",
      "Mean average precision: 0.08055\n",
      "ROC AUC micro: 0.57811\n",
      "-------------------\n",
      "Reading: ./datasets/bibtex/bibtex5.train\n",
      "Reading: ./datasets/bibtex/bibtex5.test\n",
      "Accuracy: 0.10083\n",
      "Hamming loss: 0.01335\n",
      "Coverage: 85.92956 - 1\n",
      "Ranking loss: 0.34827\n",
      "Mean average precision: 0.07706\n",
      "ROC AUC micro: 0.57568\n",
      "-------------------\n",
      "Reading: ./datasets/bibtex/bibtex6.train\n",
      "Reading: ./datasets/bibtex/bibtex6.test\n",
      "Accuracy: 0.10135\n",
      "Hamming loss: 0.01322\n",
      "Coverage: 86.47432 - 1\n",
      "Ranking loss: 0.36213\n",
      "Mean average precision: 0.06943\n",
      "ROC AUC micro: 0.57467\n",
      "-------------------\n",
      "Reading: ./datasets/bibtex/bibtex7.train\n",
      "Reading: ./datasets/bibtex/bibtex7.test\n",
      "Accuracy: 0.11187\n",
      "Hamming loss: 0.01305\n",
      "Coverage: 88.56207 - 1\n",
      "Ranking loss: 0.35781\n",
      "Mean average precision: 0.07430\n",
      "ROC AUC micro: 0.57805\n",
      "-------------------\n",
      "Reading: ./datasets/bibtex/bibtex8.train\n",
      "Reading: ./datasets/bibtex/bibtex8.test\n",
      "Accuracy: 0.10308\n",
      "Hamming loss: 0.01292\n",
      "Coverage: 86.20750 - 1\n",
      "Ranking loss: 0.35298\n",
      "Mean average precision: 0.07516\n",
      "ROC AUC micro: 0.58056\n",
      "-------------------\n",
      "Reading: ./datasets/bibtex/bibtex9.train\n",
      "Reading: ./datasets/bibtex/bibtex9.test\n",
      "Accuracy: 0.10204\n",
      "Hamming loss: 0.01336\n",
      "Coverage: 86.03810 - 1\n",
      "Ranking loss: 0.35133\n",
      "Mean average precision: 0.07304\n",
      "ROC AUC micro: 0.57927\n",
      "-------------------\n",
      "Problems while trying to calculate coverage & ranking loss due to probab measure\n"
     ]
    }
   ],
   "source": [
    "nfolds=10\n",
    "for i in range(0, nfolds):\n",
    "    X_train,y_train=readDataFromFile('./datasets/'+dataset+'/'+dataset+str(i)+'.train')\n",
    "    print('Reading: ./datasets/'+dataset+'/'+dataset+str(i)+'.train')\n",
    "    X_test,y_test=readDataFromFile('./datasets/'+dataset+'/'+dataset+str(i)+'.test')\n",
    "    print('Reading: ./datasets/'+dataset+'/'+dataset+str(i)+'.test')\n",
    "    classif = BinaryRelevance(classifier=RandomForestClassifier(n_estimators=10),require_dense=[False,True])\n",
    "    classif.fit(X_train,y_train)\n",
    "    y_score = classif.predict(X_test)\n",
    "    y_prob = classif.predict_proba(X_test)\n",
    "    fold_accuracy = []\n",
    "    fold_hamming = []\n",
    "    fold_cover = []\n",
    "    fold_rank = []\n",
    "    fold_prec = []\n",
    "    fold_auc = []\n",
    "    folds = []\n",
    "    desired_number = []\n",
    "    #-----------------------------------------#\n",
    "    #Medidas: sklearn.metrics...(true,predict,..)\n",
    "    acc= sklearn.metrics.accuracy_score(y_test, y_score)\n",
    "    fold_accuracy.append(acc)\n",
    "    print (\"Accuracy: %0.5f\"%acc)\n",
    "    #-----------------------------------------#\n",
    "    hl=sklearn.metrics.hamming_loss(y_test, y_score)\n",
    "    fold_hamming.append(hl)\n",
    "    print(\"Hamming loss: %0.5f\"%hl)\n",
    "    #-----------------------------------------#\n",
    "    #Coverage\n",
    "    c=sklearn.metrics.coverage_error(y_test, y_prob.toarray(), sample_weight=None)\n",
    "    fold_cover.append(c)\n",
    "    print (\"Coverage: %0.5f - 1\"%c)\n",
    "    #-----------------------------------------#\n",
    "    #Ranking loss\n",
    "    rl=sklearn.metrics.label_ranking_loss(y_test, y_prob.toarray(), sample_weight=None)\n",
    "    fold_rank.append(rl)\n",
    "    print(\"Ranking loss: %0.5f\"%rl)\n",
    "    #-----------------------------------------#\n",
    "    #Mean average precision\n",
    "    m=sklearn.metrics.average_precision_score(y_test, y_score.toarray(), average='macro', pos_label=1, sample_weight=None)\n",
    "    fold_prec.append(m)\n",
    "    print(\"Mean average precision: %0.5f\"%m)\n",
    "    #-----------------------------------------#\n",
    "    #Micro-average AUC\n",
    "    rmi=sklearn.metrics.roc_auc_score(y_test, y_score.toarray(), average='micro', sample_weight=None, max_fpr=None)\n",
    "    fold_auc.append(rmi)\n",
    "    print(\"ROC AUC micro: %0.5f\"%rmi)\n",
    "    print(\"-------------------\")\n",
    "print(\"Problems while trying to calculate coverage & ranking loss due to probab measure\") #Happens with genbase & medical datasets"
   ]
  },
  {
   "cell_type": "code",
   "execution_count": 7,
   "metadata": {},
   "outputs": [],
   "source": [
    "#yscore = classif.score(X_test, y_test)"
   ]
  },
  {
   "cell_type": "code",
   "execution_count": 8,
   "metadata": {},
   "outputs": [],
   "source": [
    "#y_score #prediccion de y en base al clasificador"
   ]
  },
  {
   "cell_type": "code",
   "execution_count": 9,
   "metadata": {},
   "outputs": [
    {
     "name": "stdout",
     "output_type": "stream",
     "text": [
      "Avg Accuracy: \n",
      "0.10068027210884353\n"
     ]
    }
   ],
   "source": [
    "print (\"Avg Accuracy: \")\n",
    "print sum(fold_accuracy)/len(fold_accuracy)"
   ]
  },
  {
   "cell_type": "code",
   "execution_count": 10,
   "metadata": {},
   "outputs": [
    {
     "name": "stdout",
     "output_type": "stream",
     "text": [
      "Hamming loss: \n",
      "0.0133401788388\n"
     ]
    }
   ],
   "source": [
    "print(\"Hamming loss: \")\n",
    "print sum(fold_hamming)/len(fold_hamming)"
   ]
  },
  {
   "cell_type": "code",
   "execution_count": 17,
   "metadata": {},
   "outputs": [
    {
     "name": "stdout",
     "output_type": "stream",
     "text": [
      "Coverage: \n",
      "85.03809523809524\n"
     ]
    }
   ],
   "source": [
    "print (\"Coverage: \")\n",
    "print (sum(fold_cover)/len(fold_cover))-1"
   ]
  },
  {
   "cell_type": "code",
   "execution_count": 18,
   "metadata": {},
   "outputs": [
    {
     "name": "stdout",
     "output_type": "stream",
     "text": [
      "Ranking loss: \n",
      "0.35132575794229887\n"
     ]
    }
   ],
   "source": [
    "print(\"Ranking loss: \")\n",
    "print sum(fold_rank)/len(fold_rank)"
   ]
  },
  {
   "cell_type": "code",
   "execution_count": 13,
   "metadata": {},
   "outputs": [
    {
     "name": "stdout",
     "output_type": "stream",
     "text": [
      "Mean average precision: \n",
      "0.07249294623248316\n"
     ]
    }
   ],
   "source": [
    "print(\"Mean average precision: \")\n",
    "print sum(fold_prec)/len(fold_prec)"
   ]
  },
  {
   "cell_type": "code",
   "execution_count": 14,
   "metadata": {},
   "outputs": [
    {
     "name": "stdout",
     "output_type": "stream",
     "text": [
      "Micro average AUC: \n",
      "0.5770460592218123\n"
     ]
    }
   ],
   "source": [
    "print(\"Micro average AUC: \")\n",
    "print sum(fold_auc)/len(fold_auc)"
   ]
  },
  {
   "cell_type": "code",
   "execution_count": 15,
   "metadata": {},
   "outputs": [
    {
     "name": "stdout",
     "output_type": "stream",
     "text": [
      "              precision    recall  f1-score   support\n",
      "\n",
      "           0       0.00      0.00      0.00         6\n",
      "           1       0.00      0.00      0.00        13\n",
      "           2       0.00      0.00      0.00         7\n",
      "           3       1.00      0.11      0.20         9\n",
      "           4       0.00      0.00      0.00         9\n",
      "           5       1.00      0.33      0.50         9\n",
      "           6       0.40      0.10      0.16        20\n",
      "           7       0.00      0.00      0.00         8\n",
      "           8       0.00      0.00      0.00         7\n",
      "           9       0.00      0.00      0.00        14\n",
      "          10       0.86      0.83      0.85        30\n",
      "          11       1.00      0.12      0.22         8\n",
      "          12       0.00      0.00      0.00         6\n",
      "          13       1.00      0.93      0.97        15\n",
      "          14       0.94      0.85      0.89        52\n",
      "          15       0.00      0.00      0.00         9\n",
      "          16       1.00      0.09      0.17        11\n",
      "          17       0.00      0.00      0.00         6\n",
      "          18       1.00      0.15      0.27        13\n",
      "          19       0.00      0.00      0.00        10\n",
      "          20       0.00      0.00      0.00        11\n",
      "          21       0.00      0.00      0.00        11\n",
      "          22       0.00      0.00      0.00        13\n",
      "          23       0.00      0.00      0.00         7\n",
      "          24       0.00      0.00      0.00         6\n",
      "          25       0.00      0.00      0.00         6\n",
      "          26       0.00      0.00      0.00         9\n",
      "          27       0.00      0.00      0.00        11\n",
      "          28       0.00      0.00      0.00         5\n",
      "          29       0.00      0.00      0.00         7\n",
      "          30       0.00      0.00      0.00        10\n",
      "          31       0.00      0.00      0.00         5\n",
      "          32       0.00      0.00      0.00         7\n",
      "          33       0.00      0.00      0.00         7\n",
      "          34       0.00      0.00      0.00         6\n",
      "          35       1.00      0.10      0.18        10\n",
      "          36       0.00      0.00      0.00        23\n",
      "          37       0.00      0.00      0.00         4\n",
      "          38       0.00      0.00      0.00        10\n",
      "          39       0.00      0.00      0.00         6\n",
      "          40       0.00      0.00      0.00         4\n",
      "          41       0.00      0.00      0.00        17\n",
      "          42       0.00      0.00      0.00        11\n",
      "          43       0.00      0.00      0.00         9\n",
      "          44       0.70      0.37      0.48        19\n",
      "          45       0.00      0.00      0.00         5\n",
      "          46       0.00      0.00      0.00         9\n",
      "          47       0.00      0.00      0.00         7\n",
      "          48       1.00      0.12      0.22         8\n",
      "          49       1.00      0.45      0.62        11\n",
      "          50       0.00      0.00      0.00         5\n",
      "          51       0.00      0.00      0.00         8\n",
      "          52       0.50      0.07      0.12        29\n",
      "          53       0.00      0.00      0.00         6\n",
      "          54       1.00      0.23      0.38        13\n",
      "          55       0.00      0.00      0.00         8\n",
      "          56       0.00      0.00      0.00         3\n",
      "          57       1.00      0.25      0.40         4\n",
      "          58       0.00      0.00      0.00         6\n",
      "          59       1.00      0.17      0.29         6\n",
      "          60       0.00      0.00      0.00         6\n",
      "          61       0.00      0.00      0.00        10\n",
      "          62       0.00      0.00      0.00         7\n",
      "          63       0.75      0.38      0.50        24\n",
      "          64       0.00      0.00      0.00         5\n",
      "          65       0.00      0.00      0.00         6\n",
      "          66       0.00      0.00      0.00        17\n",
      "          67       0.00      0.00      0.00         7\n",
      "          68       0.00      0.00      0.00         6\n",
      "          69       0.00      0.00      0.00         3\n",
      "          70       0.00      0.00      0.00        19\n",
      "          71       0.00      0.00      0.00         8\n",
      "          72       0.00      0.00      0.00         7\n",
      "          73       0.00      0.00      0.00         7\n",
      "          74       0.00      0.00      0.00         6\n",
      "          75       0.50      0.03      0.06        31\n",
      "          76       0.00      0.00      0.00         6\n",
      "          77       0.00      0.00      0.00        10\n",
      "          78       0.00      0.00      0.00         6\n",
      "          79       0.00      0.00      0.00         5\n",
      "          80       0.00      0.00      0.00        12\n",
      "          81       1.00      0.20      0.33        15\n",
      "          82       0.80      0.67      0.73         6\n",
      "          83       1.00      0.05      0.10        19\n",
      "          84       1.00      0.08      0.14        13\n",
      "          85       1.00      0.08      0.14        13\n",
      "          86       1.00      0.17      0.29         6\n",
      "          87       0.00      0.00      0.00         9\n",
      "          88       1.00      0.04      0.08        23\n",
      "          89       0.00      0.00      0.00         9\n",
      "          90       0.00      0.00      0.00         8\n",
      "          91       0.00      0.00      0.00         7\n",
      "          92       0.00      0.00      0.00         5\n",
      "          93       0.00      0.00      0.00        17\n",
      "          94       0.00      0.00      0.00         6\n",
      "          95       0.00      0.00      0.00         5\n",
      "          96       0.00      0.00      0.00        17\n",
      "          97       0.00      0.00      0.00        19\n",
      "          98       0.00      0.00      0.00         6\n",
      "          99       0.00      0.00      0.00         7\n",
      "         100       0.00      0.00      0.00        13\n",
      "         101       1.00      0.40      0.57        10\n",
      "         102       0.00      0.00      0.00         6\n",
      "         103       0.00      0.00      0.00         9\n",
      "         104       0.67      0.08      0.14        26\n",
      "         105       0.00      0.00      0.00         3\n",
      "         106       0.00      0.00      0.00         8\n",
      "         107       0.00      0.00      0.00         9\n",
      "         108       0.00      0.00      0.00         7\n",
      "         109       0.00      0.00      0.00         6\n",
      "         110       0.00      0.00      0.00         8\n",
      "         111       1.00      0.08      0.14        13\n",
      "         112       0.00      0.00      0.00         4\n",
      "         113       0.00      0.00      0.00        13\n",
      "         114       0.00      0.00      0.00         6\n",
      "         115       1.00      0.40      0.57         5\n",
      "         116       0.00      0.00      0.00         5\n",
      "         117       0.00      0.00      0.00        18\n",
      "         118       0.00      0.00      0.00         9\n",
      "         119       0.00      0.00      0.00        11\n",
      "         120       0.00      0.00      0.00         9\n",
      "         121       0.00      0.00      0.00         8\n",
      "         122       0.25      0.04      0.07        23\n",
      "         123       0.00      0.00      0.00        10\n",
      "         124       0.50      0.11      0.18        18\n",
      "         125       0.00      0.00      0.00         5\n",
      "         126       0.00      0.00      0.00         9\n",
      "         127       0.00      0.00      0.00         5\n",
      "         128       0.00      0.00      0.00         6\n",
      "         129       0.00      0.00      0.00        21\n",
      "         130       0.00      0.00      0.00         6\n",
      "         131       0.63      0.27      0.38        45\n",
      "         132       0.00      0.00      0.00         6\n",
      "         133       0.00      0.00      0.00         5\n",
      "         134       1.00      0.99      1.00       104\n",
      "         135       0.00      0.00      0.00         9\n",
      "         136       1.00      0.33      0.50         6\n",
      "         137       0.00      0.00      0.00         7\n",
      "         138       0.00      0.00      0.00        14\n",
      "         139       0.50      0.15      0.24        13\n",
      "         140       0.00      0.00      0.00         6\n",
      "         141       0.00      0.00      0.00        21\n",
      "         142       0.00      0.00      0.00         8\n",
      "         143       0.00      0.00      0.00        10\n",
      "         144       1.00      0.09      0.17        11\n",
      "         145       0.00      0.00      0.00         9\n",
      "         146       1.00      0.13      0.24        15\n",
      "         147       0.00      0.00      0.00         6\n",
      "         148       0.00      0.00      0.00         6\n",
      "         149       0.00      0.00      0.00        13\n",
      "         150       0.00      0.00      0.00         7\n",
      "         151       0.00      0.00      0.00        14\n",
      "         152       0.00      0.00      0.00        11\n",
      "         153       0.00      0.00      0.00        11\n",
      "         154       0.00      0.00      0.00         7\n",
      "         155       0.00      0.00      0.00        11\n",
      "         156       0.25      0.04      0.07        24\n",
      "         157       0.00      0.00      0.00         9\n",
      "         158       1.00      0.33      0.50         6\n",
      "\n",
      "   micro avg       0.80      0.15      0.26      1765\n",
      "   macro avg       0.22      0.07      0.09      1765\n",
      "weighted avg       0.34      0.15      0.18      1765\n",
      " samples avg       0.33      0.19      0.22      1765\n",
      "\n"
     ]
    },
    {
     "name": "stderr",
     "output_type": "stream",
     "text": [
      "/usr/local/lib/python2.7/dist-packages/sklearn/metrics/classification.py:1143: UndefinedMetricWarning: Precision and F-score are ill-defined and being set to 0.0 in labels with no predicted samples.\n",
      "  'precision', 'predicted', average, warn_for)\n",
      "/usr/local/lib/python2.7/dist-packages/sklearn/metrics/classification.py:1143: UndefinedMetricWarning: Precision and F-score are ill-defined and being set to 0.0 in samples with no predicted labels.\n",
      "  'precision', 'predicted', average, warn_for)\n"
     ]
    }
   ],
   "source": [
    "from sklearn.metrics import classification_report,confusion_matrix\n",
    "print(classification_report(y_test,y_score))"
   ]
  },
  {
   "cell_type": "code",
   "execution_count": null,
   "metadata": {},
   "outputs": [],
   "source": []
  }
 ],
 "metadata": {
  "kernelspec": {
   "display_name": "Python 2",
   "language": "python",
   "name": "python2"
  },
  "language_info": {
   "codemirror_mode": {
    "name": "ipython",
    "version": 2
   },
   "file_extension": ".py",
   "mimetype": "text/x-python",
   "name": "python",
   "nbconvert_exporter": "python",
   "pygments_lexer": "ipython2",
   "version": "2.7.15rc1"
  }
 },
 "nbformat": 4,
 "nbformat_minor": 2
}
