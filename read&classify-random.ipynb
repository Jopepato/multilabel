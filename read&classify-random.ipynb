{
 "cells": [
  {
   "cell_type": "code",
   "execution_count": 1,
   "metadata": {},
   "outputs": [],
   "source": [
    "import numpy as np\n",
    "import scipy.sparse as sp"
   ]
  },
  {
   "cell_type": "code",
   "execution_count": 2,
   "metadata": {},
   "outputs": [],
   "source": [
    "def readDataFromFile (fileName):\n",
    "    \"This functions reads data from a file and store it in two matrices\"\n",
    "    #Open the file\n",
    "    file = open(fileName, 'r')\n",
    " \n",
    "    #Now we have to read the first line and check if it's sparse or dense\n",
    "    firstLine = file.readline()\n",
    "    words = firstLine.split()\n",
    "    word = words[1]\n",
    "    if word[:-1] == 'SPARSE':\n",
    "        sparse = True #The file is in sparse mode\n",
    "    else:\n",
    "        sparse = False #The file is in dense mode\n",
    " \n",
    " \n",
    "    secondLine = file.readline()\n",
    "    words = secondLine.split()\n",
    "    instances = int(words[1])\n",
    "    thirdLine = file.readline()\n",
    "    words = thirdLine.split()\n",
    "    attributes = int(words[1])\n",
    "    fourthLine = file.readline()\n",
    "    words = fourthLine.split()\n",
    "    labels = int(words[1])\n",
    "    #Now we do a loop reading all the other lines\n",
    "    #Then we read the file, different way depending if sparse or dense\n",
    " \n",
    "    #The loop starts in the first line of data\n",
    "    #We have to store that data in two matrices\n",
    "    X = np.zeros((instances, attributes), dtype=float)\n",
    "    y = np.zeros((instances, labels), dtype=int)\n",
    "    numberLine = 0\n",
    "    for line in file.readlines():\n",
    "        putToX = True\n",
    "        firstIndex = 1\n",
    "        numberData = 0\n",
    "        numberY = 0\n",
    "        for data in line.split():\n",
    "            if sparse:#Sparse format, we have to split each data\n",
    "                if data == '[':\n",
    "                    putToX = False\n",
    " \n",
    "                if putToX == True and (data != '[' and data != ']'):\n",
    "                    sparseArray = data.split(':')\n",
    "                    lastIndex = int(sparseArray[0])\n",
    "                    for i in range(firstIndex, lastIndex - 1):\n",
    "                        X[numberLine, i-1] = float(0)\n",
    "                    X[numberLine, lastIndex-1] = float(sparseArray[1])\n",
    "                    firstIndex = lastIndex-1\n",
    "                else:\n",
    "                    if (data != '[') and (data != ']'):\n",
    "                        aux = float(data)\n",
    "                        y[numberLine, numberY] = int(aux)\n",
    "                        numberY += 1\n",
    "               \n",
    "            else:#Dense format\n",
    "                if data == '[':\n",
    "                    putToX = False\n",
    " \n",
    "                if putToX == True and (data != '[' and data != ']'):\n",
    "                    X[numberLine, numberData] = float(data)\n",
    "                else:\n",
    "                    if (data != '[') and (data != ']'):\n",
    "                        #This is good for the dense format\n",
    "                        aux = float(data)\n",
    "                        y[numberLine, numberY] = int(aux)\n",
    "                        numberY += 1\n",
    "            numberData += 1\n",
    "       \n",
    "        numberLine += 1\n",
    "    X = sp.csr_matrix(X)\n",
    "    file.close()\n",
    "    return X, y"
   ]
  },
  {
   "cell_type": "code",
   "execution_count": 3,
   "metadata": {},
   "outputs": [],
   "source": [
    "#Sacamos los datos de train y test generados (.train y .gen)"
   ]
  },
  {
   "cell_type": "code",
   "execution_count": 4,
   "metadata": {},
   "outputs": [],
   "source": [
    "#X_train.shape[0]\n",
    "#y_train.shape[1]\n",
    "#---------------\n",
    "#X_test.shape[0]\n",
    "#y_test.shape[1]"
   ]
  },
  {
   "cell_type": "code",
   "execution_count": 5,
   "metadata": {},
   "outputs": [],
   "source": [
    "from skmultilearn.problem_transform import BinaryRelevance\n",
    "from sklearn.ensemble import RandomForestClassifier\n",
    "import sklearn.metrics\n",
    "#CHANGE DATASET NAME HERE:\n",
    "dataset = 'yeast'"
   ]
  },
  {
   "cell_type": "code",
   "execution_count": 6,
   "metadata": {},
   "outputs": [
    {
     "name": "stdout",
     "output_type": "stream",
     "text": [
      "Reading: ./datasets/yeast/yeast0.rtrain\n",
      "Reading: ./datasets/yeast/yeast0.rtest\n",
      "Accuracy: 0.11157\n",
      "Hamming loss: 0.19421\n",
      "Coverage: 8.16942 - 1\n",
      "Ranking loss: 0.19723\n",
      "Mean average precision: 0.35592\n",
      "ROC AUC micro: 0.72852\n",
      "-------------------\n",
      "Reading: ./datasets/yeast/yeast1.rtrain\n",
      "Reading: ./datasets/yeast/yeast1.rtest\n",
      "Accuracy: 0.10331\n",
      "Hamming loss: 0.21488\n",
      "Coverage: 8.66116 - 1\n",
      "Ranking loss: 0.22192\n",
      "Mean average precision: 0.37404\n",
      "ROC AUC micro: 0.70630\n",
      "-------------------\n",
      "Reading: ./datasets/yeast/yeast2.rtrain\n",
      "Reading: ./datasets/yeast/yeast2.rtest\n",
      "Accuracy: 0.11157\n",
      "Hamming loss: 0.21488\n",
      "Coverage: 8.57851 - 1\n",
      "Ranking loss: 0.22515\n",
      "Mean average precision: 0.37146\n",
      "ROC AUC micro: 0.70327\n",
      "-------------------\n",
      "Reading: ./datasets/yeast/yeast3.rtrain\n",
      "Reading: ./datasets/yeast/yeast3.rtest\n",
      "Accuracy: 0.11157\n",
      "Hamming loss: 0.21635\n",
      "Coverage: 8.67355 - 1\n",
      "Ranking loss: 0.22963\n",
      "Mean average precision: 0.35963\n",
      "ROC AUC micro: 0.70412\n",
      "-------------------\n",
      "Reading: ./datasets/yeast/yeast4.rtrain\n",
      "Reading: ./datasets/yeast/yeast4.rtest\n",
      "Accuracy: 0.12810\n",
      "Hamming loss: 0.20809\n",
      "Coverage: 8.32231 - 1\n",
      "Ranking loss: 0.22224\n",
      "Mean average precision: 0.36011\n",
      "ROC AUC micro: 0.71469\n",
      "-------------------\n",
      "Reading: ./datasets/yeast/yeast5.rtrain\n",
      "Reading: ./datasets/yeast/yeast5.rtest\n",
      "Accuracy: 0.13636\n",
      "Hamming loss: 0.20632\n",
      "Coverage: 8.27686 - 1\n",
      "Ranking loss: 0.21884\n",
      "Mean average precision: nan\n",
      "ROC AUC micro: 0.71003\n",
      "-------------------\n"
     ]
    },
    {
     "name": "stderr",
     "output_type": "stream",
     "text": [
      "/usr/local/lib/python2.7/dist-packages/sklearn/metrics/ranking.py:526: RuntimeWarning: invalid value encountered in true_divide\n",
      "  recall = tps / tps[-1]\n"
     ]
    },
    {
     "name": "stdout",
     "output_type": "stream",
     "text": [
      "Reading: ./datasets/yeast/yeast6.rtrain\n",
      "Reading: ./datasets/yeast/yeast6.rtest\n",
      "Accuracy: 0.09504\n",
      "Hamming loss: 0.21458\n",
      "Coverage: 8.32645 - 1\n",
      "Ranking loss: 0.23351\n",
      "Mean average precision: 0.33892\n",
      "ROC AUC micro: 0.69770\n",
      "-------------------\n",
      "Reading: ./datasets/yeast/yeast7.rtrain\n",
      "Reading: ./datasets/yeast/yeast7.rtest\n",
      "Accuracy: 0.10788\n",
      "Hamming loss: 0.20717\n",
      "Coverage: 8.46473 - 1\n",
      "Ranking loss: 0.22530\n",
      "Mean average precision: 0.36388\n",
      "ROC AUC micro: 0.71364\n",
      "-------------------\n",
      "Reading: ./datasets/yeast/yeast8.rtrain\n",
      "Reading: ./datasets/yeast/yeast8.rtest\n",
      "Accuracy: 0.11618\n",
      "Hamming loss: 0.20065\n",
      "Coverage: 8.24481 - 1\n",
      "Ranking loss: 0.21203\n",
      "Mean average precision: 0.37336\n",
      "ROC AUC micro: 0.72078\n",
      "-------------------\n",
      "Reading: ./datasets/yeast/yeast9.rtrain\n",
      "Reading: ./datasets/yeast/yeast9.rtest\n",
      "Accuracy: 0.12033\n",
      "Hamming loss: 0.21162\n",
      "Coverage: 8.30705 - 1\n",
      "Ranking loss: 0.22802\n",
      "Mean average precision: 0.37211\n",
      "ROC AUC micro: 0.70574\n",
      "-------------------\n",
      "Problems while trying to calculate coverage & ranking loss due to probab measure\n"
     ]
    }
   ],
   "source": [
    "nfolds=10\n",
    "for i in range(0, nfolds):\n",
    "    X_train,y_train=readDataFromFile('./datasets/'+dataset+'/'+dataset+str(i)+'.rtrain')\n",
    "    print('Reading: ./datasets/'+dataset+'/'+dataset+str(i)+'.rtrain')\n",
    "    X_test,y_test=readDataFromFile('./datasets/'+dataset+'/'+dataset+str(i)+'.rtest')\n",
    "    print('Reading: ./datasets/'+dataset+'/'+dataset+str(i)+'.rtest')\n",
    "    classif = BinaryRelevance(classifier=RandomForestClassifier(n_estimators=10),require_dense=[False,True])\n",
    "    classif.fit(X_train,y_train)\n",
    "    y_score = classif.predict(X_test)\n",
    "    y_prob = classif.predict_proba(X_test)\n",
    "    fold_accuracy = []\n",
    "    fold_hamming = []\n",
    "    fold_cover = []\n",
    "    fold_rank = []\n",
    "    fold_prec = []\n",
    "    fold_auc = []\n",
    "    folds = []\n",
    "    desired_number = []\n",
    "    #-----------------------------------------#\n",
    "    #Medidas: sklearn.metrics...(true,predict,..)\n",
    "    acc= sklearn.metrics.accuracy_score(y_test, y_score)\n",
    "    fold_accuracy.append(acc)\n",
    "    print (\"Accuracy: %0.5f\"%acc)\n",
    "    #-----------------------------------------#\n",
    "    hl=sklearn.metrics.hamming_loss(y_test, y_score)\n",
    "    fold_hamming.append(hl)\n",
    "    print(\"Hamming loss: %0.5f\"%hl)\n",
    "    #-----------------------------------------#\n",
    "    #Coverage\n",
    "    c=sklearn.metrics.coverage_error(y_test, y_prob.toarray(), sample_weight=None)\n",
    "    fold_cover.append(c)\n",
    "    print (\"Coverage: %0.5f - 1\"%c)\n",
    "    #-----------------------------------------#\n",
    "    #Ranking loss\n",
    "    rl=sklearn.metrics.label_ranking_loss(y_test, y_prob.toarray(), sample_weight=None)\n",
    "    fold_rank.append(rl)\n",
    "    print(\"Ranking loss: %0.5f\"%rl)\n",
    "    #-----------------------------------------#\n",
    "    #Mean average precision\n",
    "    m=sklearn.metrics.average_precision_score(y_test, y_score.toarray(), average='macro', pos_label=1, sample_weight=None)\n",
    "    fold_prec.append(m)\n",
    "    print(\"Mean average precision: %0.5f\"%m)\n",
    "    #-----------------------------------------#\n",
    "    #Micro-average AUC\n",
    "    rmi=sklearn.metrics.roc_auc_score(y_test, y_score.toarray(), average='micro', sample_weight=None, max_fpr=None)\n",
    "    fold_auc.append(rmi)\n",
    "    print(\"ROC AUC micro: %0.5f\"%rmi)\n",
    "    print(\"-------------------\")\n",
    "print(\"Problems while trying to calculate coverage & ranking loss due to probab measure\")"
   ]
  },
  {
   "cell_type": "code",
   "execution_count": 7,
   "metadata": {},
   "outputs": [],
   "source": [
    "#yscore = classif.score(X_test, y_test)"
   ]
  },
  {
   "cell_type": "code",
   "execution_count": 8,
   "metadata": {},
   "outputs": [],
   "source": [
    "#y_score #prediccion de y en base al clasificador"
   ]
  },
  {
   "cell_type": "code",
   "execution_count": 9,
   "metadata": {},
   "outputs": [
    {
     "name": "stdout",
     "output_type": "stream",
     "text": [
      "Avg Accuracy: \n",
      "0.12033195020746888\n"
     ]
    }
   ],
   "source": [
    "print (\"Avg Accuracy: \")\n",
    "print sum(fold_accuracy)/len(fold_accuracy)"
   ]
  },
  {
   "cell_type": "code",
   "execution_count": 10,
   "metadata": {},
   "outputs": [
    {
     "name": "stdout",
     "output_type": "stream",
     "text": [
      "Hamming loss: \n",
      "0.211618257261\n"
     ]
    }
   ],
   "source": [
    "print(\"Hamming loss: \")\n",
    "print sum(fold_hamming)/len(fold_hamming)"
   ]
  },
  {
   "cell_type": "code",
   "execution_count": 11,
   "metadata": {},
   "outputs": [
    {
     "name": "stdout",
     "output_type": "stream",
     "text": [
      "Coverage: \n",
      "7.307053941908714\n"
     ]
    }
   ],
   "source": [
    "print (\"Coverage: \")\n",
    "print (sum(fold_cover)/len(fold_cover))-1"
   ]
  },
  {
   "cell_type": "code",
   "execution_count": 12,
   "metadata": {},
   "outputs": [
    {
     "name": "stdout",
     "output_type": "stream",
     "text": [
      "Ranking loss: \n",
      "0.22801611547906747\n"
     ]
    }
   ],
   "source": [
    "print(\"Ranking loss: \")\n",
    "print sum(fold_rank)/len(fold_rank)"
   ]
  },
  {
   "cell_type": "code",
   "execution_count": 13,
   "metadata": {},
   "outputs": [
    {
     "name": "stdout",
     "output_type": "stream",
     "text": [
      "Mean average precision: \n",
      "0.3721111735529662\n"
     ]
    }
   ],
   "source": [
    "print(\"Mean average precision: \")\n",
    "print sum(fold_prec)/len(fold_prec)"
   ]
  },
  {
   "cell_type": "code",
   "execution_count": 14,
   "metadata": {},
   "outputs": [
    {
     "name": "stdout",
     "output_type": "stream",
     "text": [
      "Micro average AUC: \n",
      "0.7057367411349712\n"
     ]
    }
   ],
   "source": [
    "print(\"Micro average AUC: \")\n",
    "print sum(fold_auc)/len(fold_auc)"
   ]
  },
  {
   "cell_type": "code",
   "execution_count": 15,
   "metadata": {},
   "outputs": [
    {
     "name": "stdout",
     "output_type": "stream",
     "text": [
      "              precision    recall  f1-score   support\n",
      "\n",
      "           0       0.80      0.36      0.50        88\n",
      "           1       0.61      0.49      0.55       104\n",
      "           2       0.80      0.56      0.66        98\n",
      "           3       0.79      0.36      0.49        87\n",
      "           4       0.96      0.30      0.46        82\n",
      "           5       0.76      0.20      0.32        65\n",
      "           6       0.75      0.14      0.24        42\n",
      "           7       0.67      0.08      0.14        50\n",
      "           8       0.00      0.00      0.00        16\n",
      "           9       0.00      0.00      0.00        24\n",
      "          10       0.00      0.00      0.00        25\n",
      "          11       0.66      0.91      0.76       158\n",
      "          12       0.68      0.90      0.78       157\n",
      "          13       0.00      0.00      0.00         5\n",
      "\n",
      "   micro avg       0.70      0.50      0.58      1001\n",
      "   macro avg       0.53      0.31      0.35      1001\n",
      "weighted avg       0.68      0.50      0.53      1001\n",
      " samples avg       0.67      0.50      0.54      1001\n",
      "\n"
     ]
    },
    {
     "name": "stderr",
     "output_type": "stream",
     "text": [
      "/usr/local/lib/python2.7/dist-packages/sklearn/metrics/classification.py:1143: UndefinedMetricWarning: Precision and F-score are ill-defined and being set to 0.0 in labels with no predicted samples.\n",
      "  'precision', 'predicted', average, warn_for)\n",
      "/usr/local/lib/python2.7/dist-packages/sklearn/metrics/classification.py:1143: UndefinedMetricWarning: Precision and F-score are ill-defined and being set to 0.0 in samples with no predicted labels.\n",
      "  'precision', 'predicted', average, warn_for)\n"
     ]
    }
   ],
   "source": [
    "from sklearn.metrics import classification_report,confusion_matrix\n",
    "print(classification_report(y_test,y_score))"
   ]
  },
  {
   "cell_type": "code",
   "execution_count": null,
   "metadata": {},
   "outputs": [],
   "source": []
  }
 ],
 "metadata": {
  "kernelspec": {
   "display_name": "Python 2",
   "language": "python",
   "name": "python2"
  },
  "language_info": {
   "codemirror_mode": {
    "name": "ipython",
    "version": 2
   },
   "file_extension": ".py",
   "mimetype": "text/x-python",
   "name": "python",
   "nbconvert_exporter": "python",
   "pygments_lexer": "ipython2",
   "version": "2.7.12"
  }
 },
 "nbformat": 4,
 "nbformat_minor": 2
}
